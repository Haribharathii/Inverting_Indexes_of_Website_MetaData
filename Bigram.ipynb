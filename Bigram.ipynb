{
 "cells": [
  {
   "cell_type": "code",
   "execution_count": null,
   "id": "b769d380-764e-4cac-ac88-6dc22c0af892",
   "metadata": {},
   "outputs": [],
   "source": [
    "import os\n",
    "import re\n",
    "from collections import defaultdict\n",
    "from concurrent.futures import ThreadPoolExecutor, as_completed"
   ]
  },
  {
   "cell_type": "code",
   "execution_count": 5,
   "id": "bc822b22-53b3-4ddd-8b69-a8a5b6df2762",
   "metadata": {},
   "outputs": [],
   "source": [
    "\n",
    "TARGET_BIGRAMS = {\n",
    "    \"computer science\", \n",
    "    \"information retrieval\", \n",
    "    \"power politics\", \n",
    "    \"los angeles\", \n",
    "    \"bruce willis\"\n",
    "}\n",
    "\n",
    "def preprocessor(text):\n",
    "\n",
    "    text = re.sub(r'[^\\w\\s]', ' ', text) \n",
    "    text = re.sub(r'\\d+', ' ', text)     \n",
    "    text = text.lower()                   \n",
    "    return text\n",
    "\n",
    "def reader(file_path):\n",
    "    with open(file_path, 'r', encoding='utf-8') as f:\n",
    "        first_line = f.readline().strip()\n",
    "        docID, content = first_line.split('\\t', 1)\n",
    "        content = preprocessor(content)\n",
    "        words = content.split()\n",
    "    return docID, words\n",
    "\n",
    "def mapper(file_path):\n",
    "  \n",
    "    docID, words = reader(file_path)\n",
    "    bigram_count = defaultdict(int)\n",
    "    \n",
    "    if words:\n",
    "        for i in range(len(words) - 1):\n",
    "            bigram = f\"{words[i]} {words[i + 1]}\"\n",
    "            if bigram in TARGET_BIGRAMS:\n",
    "                bigram_count[bigram] += 1\n",
    "\n",
    "    return docID, bigram_count\n",
    "\n",
    "def reducer(bigram_counts):\n",
    "\n",
    "    final_count = defaultdict(lambda: defaultdict(int))\n",
    "    for docID, bigram_count in bigram_counts:\n",
    "        if docID:\n",
    "            for bigram, count in bigram_count.items():\n",
    "                final_count[bigram][docID] += count\n",
    "    return final_count\n"
   ]
  },
  {
   "cell_type": "code",
   "execution_count": 6,
   "id": "750694c3-d532-4559-86af-406b324e80fa",
   "metadata": {},
   "outputs": [
    {
     "name": "stdout",
     "output_type": "stream",
     "text": [
      "Bigram written to selected_bigram_index.txt\n"
     ]
    }
   ],
   "source": [
    "input_folder = r\"C:\\Users\\harib\\Desktop\\USC\\Classes\\IR\\HW03\\devdata\"\n",
    "files = [os.path.join(input_folder, f) for f in os.listdir(input_folder) if f.endswith('.txt')]\n",
    "bigram_counts = []\n",
    "\n",
    "\n",
    "with ThreadPoolExecutor() as executor:\n",
    "    future_to_file = {executor.submit(mapper, file): file for file in files}\n",
    "    for future in as_completed(future_to_file):\n",
    "        result = future.result()\n",
    "        if result and result[0]:  \n",
    "            bigram_counts.append(result)\n",
    "\n",
    "final_counts = reducer(bigram_counts)\n",
    "\n",
    "output_file = \"selected_bigram_index.txt\"\n",
    "with open(output_file, 'w', encoding='utf-8') as f:\n",
    "    for bigram, docID_counts in final_counts.items():\n",
    "        counts = ' '.join([f\"{docID}: {count}\" for docID, count in docID_counts.items()])\n",
    "        f.write(f\"{bigram} {counts}\\n\")\n",
    "\n",
    "print(f\"Bigram written to {output_file}\")"
   ]
  },
  {
   "cell_type": "code",
   "execution_count": null,
   "id": "7819735d-6bc7-4f6d-9924-37244a1ac162",
   "metadata": {},
   "outputs": [],
   "source": []
  }
 ],
 "metadata": {
  "kernelspec": {
   "display_name": "Python 3",
   "language": "python",
   "name": "python3"
  },
  "language_info": {
   "codemirror_mode": {
    "name": "ipython",
    "version": 3
   },
   "file_extension": ".py",
   "mimetype": "text/x-python",
   "name": "python",
   "nbconvert_exporter": "python",
   "pygments_lexer": "ipython3",
   "version": "3.8.8"
  }
 },
 "nbformat": 4,
 "nbformat_minor": 5
}
