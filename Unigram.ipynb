{
 "cells": [
  {
   "cell_type": "code",
   "execution_count": 3,
   "id": "4b478da1-b93b-4e10-90b6-146f3fab09fa",
   "metadata": {},
   "outputs": [],
   "source": [
    "import os\n",
    "import re\n",
    "from collections import defaultdict\n",
    "from concurrent.futures import ThreadPoolExecutor, as_completed"
   ]
  },
  {
   "cell_type": "code",
   "execution_count": 4,
   "id": "d3b6d2df-d5eb-4c1a-9663-18ec5218f2f4",
   "metadata": {},
   "outputs": [],
   "source": [
    "\n",
    "def preprocessor(text):\n",
    "    text = re.sub(r'[^\\w\\s]', ' ', text)  \n",
    "    text = re.sub(r'\\d+', ' ', text)     \n",
    "    text = text.lower()                   \n",
    "    return text\n",
    "\n",
    "def reader(file_path):\n",
    "    with open(file_path, 'r', encoding='utf-8') as f:\n",
    "        first_line = f.readline().strip()\n",
    "        docID, content = first_line.split('\\t', 1)\n",
    "        content = preprocessor(content)\n",
    "        words = content.split()\n",
    "    return docID, words\n",
    "\n",
    "def mapper(file_path):\n",
    "    docID, words = reader(file_path)\n",
    "    unigram_count = defaultdict(int)\n",
    "    if words:\n",
    "        for word in words:\n",
    "            if word:\n",
    "                unigram_count[word] += 1\n",
    "    return docID, unigram_count\n",
    "\n",
    "def reducer(unigram_counts):\n",
    "    count_dict = defaultdict(lambda: defaultdict(int))\n",
    "    for docID, unigram_count in unigram_counts:\n",
    "        if docID:\n",
    "            for word, count in unigram_count.items():\n",
    "                count_dict[word][docID] += count\n",
    "    return count_dict\n",
    "    \n"
   ]
  },
  {
   "cell_type": "code",
   "execution_count": 5,
   "id": "422451fe-19be-4efa-b0ee-9f72a9209d53",
   "metadata": {},
   "outputs": [
    {
     "name": "stdout",
     "output_type": "stream",
     "text": [
      "Unigram written to: unigram_index.txt\n"
     ]
    }
   ],
   "source": [
    "input_folder = r\"C:\\Users\\harib\\Desktop\\USC\\Classes\\IR\\HW03\\fulldata\"\n",
    "files = [os.path.join(input_folder, f) for f in os.listdir(input_folder) if f.endswith('.txt')]\n",
    "unigram_counts = []\n",
    "\n",
    "with ThreadPoolExecutor() as executor:\n",
    "    future_to_file = {executor.submit(mapper, file): file for file in files}\n",
    "    for future in as_completed(future_to_file):\n",
    "        result = future.result()\n",
    "        if result and result[0]:  \n",
    "            unigram_counts.append(result)\n",
    "\n",
    "final_counts = reducer(unigram_counts)\n",
    "\n",
    "output_file = \"unigram_index.txt\"\n",
    "with open(output_file, 'w', encoding='utf-8') as f:\n",
    "    for word, docID_counts in final_counts.items():\n",
    "        counts = ' '.join([f\"{docID}: {count}\" for docID, count in docID_counts.items()])\n",
    "        f.write(f\"{word} {counts}\\n\")\n",
    "\n",
    "print(f\"Unigram written to: {output_file}\")\n"
   ]
  }
 ],
 "metadata": {
  "kernelspec": {
   "display_name": "Python 3",
   "language": "python",
   "name": "python3"
  },
  "language_info": {
   "codemirror_mode": {
    "name": "ipython",
    "version": 3
   },
   "file_extension": ".py",
   "mimetype": "text/x-python",
   "name": "python",
   "nbconvert_exporter": "python",
   "pygments_lexer": "ipython3",
   "version": "3.8.8"
  }
 },
 "nbformat": 4,
 "nbformat_minor": 5
}
